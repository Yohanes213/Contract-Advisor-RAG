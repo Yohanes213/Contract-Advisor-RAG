{
 "cells": [
  {
   "cell_type": "code",
   "execution_count": 1,
   "metadata": {},
   "outputs": [
    {
     "name": "stdout",
     "output_type": "stream",
     "text": [
      "Requirement already satisfied: ipywidgets in /workspaces/Contract-Advisor-RAG/venv/lib/python3.10/site-packages (8.1.3)\n",
      "Requirement already satisfied: comm>=0.1.3 in /workspaces/Contract-Advisor-RAG/venv/lib/python3.10/site-packages (from ipywidgets) (0.2.2)\n",
      "Requirement already satisfied: ipython>=6.1.0 in /workspaces/Contract-Advisor-RAG/venv/lib/python3.10/site-packages (from ipywidgets) (8.26.0)\n",
      "Requirement already satisfied: traitlets>=4.3.1 in /workspaces/Contract-Advisor-RAG/venv/lib/python3.10/site-packages (from ipywidgets) (5.14.3)\n",
      "Requirement already satisfied: widgetsnbextension~=4.0.11 in /workspaces/Contract-Advisor-RAG/venv/lib/python3.10/site-packages (from ipywidgets) (4.0.11)\n",
      "Requirement already satisfied: jupyterlab-widgets~=3.0.11 in /workspaces/Contract-Advisor-RAG/venv/lib/python3.10/site-packages (from ipywidgets) (3.0.11)\n",
      "Requirement already satisfied: decorator in /workspaces/Contract-Advisor-RAG/venv/lib/python3.10/site-packages (from ipython>=6.1.0->ipywidgets) (5.1.1)\n",
      "Requirement already satisfied: jedi>=0.16 in /workspaces/Contract-Advisor-RAG/venv/lib/python3.10/site-packages (from ipython>=6.1.0->ipywidgets) (0.19.1)\n",
      "Requirement already satisfied: matplotlib-inline in /workspaces/Contract-Advisor-RAG/venv/lib/python3.10/site-packages (from ipython>=6.1.0->ipywidgets) (0.1.7)\n",
      "Requirement already satisfied: prompt-toolkit<3.1.0,>=3.0.41 in /workspaces/Contract-Advisor-RAG/venv/lib/python3.10/site-packages (from ipython>=6.1.0->ipywidgets) (3.0.47)\n",
      "Requirement already satisfied: pygments>=2.4.0 in /workspaces/Contract-Advisor-RAG/venv/lib/python3.10/site-packages (from ipython>=6.1.0->ipywidgets) (2.18.0)\n",
      "Requirement already satisfied: stack-data in /workspaces/Contract-Advisor-RAG/venv/lib/python3.10/site-packages (from ipython>=6.1.0->ipywidgets) (0.6.3)\n",
      "Requirement already satisfied: exceptiongroup in /workspaces/Contract-Advisor-RAG/venv/lib/python3.10/site-packages (from ipython>=6.1.0->ipywidgets) (1.2.1)\n",
      "Requirement already satisfied: typing-extensions>=4.6 in /workspaces/Contract-Advisor-RAG/venv/lib/python3.10/site-packages (from ipython>=6.1.0->ipywidgets) (4.12.2)\n",
      "Requirement already satisfied: pexpect>4.3 in /workspaces/Contract-Advisor-RAG/venv/lib/python3.10/site-packages (from ipython>=6.1.0->ipywidgets) (4.9.0)\n",
      "Requirement already satisfied: parso<0.9.0,>=0.8.3 in /workspaces/Contract-Advisor-RAG/venv/lib/python3.10/site-packages (from jedi>=0.16->ipython>=6.1.0->ipywidgets) (0.8.4)\n",
      "Requirement already satisfied: ptyprocess>=0.5 in /workspaces/Contract-Advisor-RAG/venv/lib/python3.10/site-packages (from pexpect>4.3->ipython>=6.1.0->ipywidgets) (0.7.0)\n",
      "Requirement already satisfied: wcwidth in /workspaces/Contract-Advisor-RAG/venv/lib/python3.10/site-packages (from prompt-toolkit<3.1.0,>=3.0.41->ipython>=6.1.0->ipywidgets) (0.2.13)\n",
      "Requirement already satisfied: executing>=1.2.0 in /workspaces/Contract-Advisor-RAG/venv/lib/python3.10/site-packages (from stack-data->ipython>=6.1.0->ipywidgets) (2.0.1)\n",
      "Requirement already satisfied: asttokens>=2.1.0 in /workspaces/Contract-Advisor-RAG/venv/lib/python3.10/site-packages (from stack-data->ipython>=6.1.0->ipywidgets) (2.4.1)\n",
      "Requirement already satisfied: pure-eval in /workspaces/Contract-Advisor-RAG/venv/lib/python3.10/site-packages (from stack-data->ipython>=6.1.0->ipywidgets) (0.2.2)\n",
      "Requirement already satisfied: six>=1.12.0 in /workspaces/Contract-Advisor-RAG/venv/lib/python3.10/site-packages (from asttokens>=2.1.0->stack-data->ipython>=6.1.0->ipywidgets) (1.16.0)\n"
     ]
    }
   ],
   "source": [
    "!pip install ipywidgets"
   ]
  },
  {
   "cell_type": "code",
   "execution_count": 3,
   "metadata": {},
   "outputs": [
    {
     "name": "stdout",
     "output_type": "stream",
     "text": [
      "Collecting pyautogen\n",
      "  Downloading pyautogen-0.2.32-py3-none-any.whl.metadata (27 kB)\n",
      "Requirement already satisfied: diskcache in /workspaces/Contract-Advisor-RAG/venv/lib/python3.10/site-packages (from pyautogen) (5.6.3)\n",
      "Requirement already satisfied: docker in /workspaces/Contract-Advisor-RAG/venv/lib/python3.10/site-packages (from pyautogen) (7.1.0)\n",
      "Requirement already satisfied: flaml in /workspaces/Contract-Advisor-RAG/venv/lib/python3.10/site-packages (from pyautogen) (2.1.2)\n",
      "Requirement already satisfied: numpy<2,>=1.17.0 in /workspaces/Contract-Advisor-RAG/venv/lib/python3.10/site-packages (from pyautogen) (1.26.4)\n",
      "Requirement already satisfied: openai>=1.3 in /workspaces/Contract-Advisor-RAG/venv/lib/python3.10/site-packages (from pyautogen) (1.35.10)\n",
      "Requirement already satisfied: packaging in /workspaces/Contract-Advisor-RAG/venv/lib/python3.10/site-packages (from pyautogen) (24.1)\n",
      "Requirement already satisfied: pydantic!=2.6.0,<3,>=1.10 in /workspaces/Contract-Advisor-RAG/venv/lib/python3.10/site-packages (from pyautogen) (2.8.2)\n",
      "Requirement already satisfied: python-dotenv in /workspaces/Contract-Advisor-RAG/venv/lib/python3.10/site-packages (from pyautogen) (1.0.1)\n",
      "Requirement already satisfied: termcolor in /workspaces/Contract-Advisor-RAG/venv/lib/python3.10/site-packages (from pyautogen) (2.4.0)\n",
      "Requirement already satisfied: tiktoken in /workspaces/Contract-Advisor-RAG/venv/lib/python3.10/site-packages (from pyautogen) (0.7.0)\n",
      "Requirement already satisfied: anyio<5,>=3.5.0 in /workspaces/Contract-Advisor-RAG/venv/lib/python3.10/site-packages (from openai>=1.3->pyautogen) (4.4.0)\n",
      "Requirement already satisfied: distro<2,>=1.7.0 in /workspaces/Contract-Advisor-RAG/venv/lib/python3.10/site-packages (from openai>=1.3->pyautogen) (1.9.0)\n",
      "Requirement already satisfied: httpx<1,>=0.23.0 in /workspaces/Contract-Advisor-RAG/venv/lib/python3.10/site-packages (from openai>=1.3->pyautogen) (0.27.0)\n",
      "Requirement already satisfied: sniffio in /workspaces/Contract-Advisor-RAG/venv/lib/python3.10/site-packages (from openai>=1.3->pyautogen) (1.3.1)\n",
      "Requirement already satisfied: tqdm>4 in /workspaces/Contract-Advisor-RAG/venv/lib/python3.10/site-packages (from openai>=1.3->pyautogen) (4.66.4)\n",
      "Requirement already satisfied: typing-extensions<5,>=4.7 in /workspaces/Contract-Advisor-RAG/venv/lib/python3.10/site-packages (from openai>=1.3->pyautogen) (4.12.2)\n",
      "Requirement already satisfied: annotated-types>=0.4.0 in /workspaces/Contract-Advisor-RAG/venv/lib/python3.10/site-packages (from pydantic!=2.6.0,<3,>=1.10->pyautogen) (0.7.0)\n",
      "Requirement already satisfied: pydantic-core==2.20.1 in /workspaces/Contract-Advisor-RAG/venv/lib/python3.10/site-packages (from pydantic!=2.6.0,<3,>=1.10->pyautogen) (2.20.1)\n",
      "Requirement already satisfied: requests>=2.26.0 in /workspaces/Contract-Advisor-RAG/venv/lib/python3.10/site-packages (from docker->pyautogen) (2.32.3)\n",
      "Requirement already satisfied: urllib3>=1.26.0 in /workspaces/Contract-Advisor-RAG/venv/lib/python3.10/site-packages (from docker->pyautogen) (2.2.2)\n",
      "Requirement already satisfied: regex>=2022.1.18 in /workspaces/Contract-Advisor-RAG/venv/lib/python3.10/site-packages (from tiktoken->pyautogen) (2024.5.15)\n",
      "Requirement already satisfied: idna>=2.8 in /workspaces/Contract-Advisor-RAG/venv/lib/python3.10/site-packages (from anyio<5,>=3.5.0->openai>=1.3->pyautogen) (3.7)\n",
      "Requirement already satisfied: exceptiongroup>=1.0.2 in /workspaces/Contract-Advisor-RAG/venv/lib/python3.10/site-packages (from anyio<5,>=3.5.0->openai>=1.3->pyautogen) (1.2.1)\n",
      "Requirement already satisfied: certifi in /workspaces/Contract-Advisor-RAG/venv/lib/python3.10/site-packages (from httpx<1,>=0.23.0->openai>=1.3->pyautogen) (2024.7.4)\n",
      "Requirement already satisfied: httpcore==1.* in /workspaces/Contract-Advisor-RAG/venv/lib/python3.10/site-packages (from httpx<1,>=0.23.0->openai>=1.3->pyautogen) (1.0.5)\n",
      "Requirement already satisfied: h11<0.15,>=0.13 in /workspaces/Contract-Advisor-RAG/venv/lib/python3.10/site-packages (from httpcore==1.*->httpx<1,>=0.23.0->openai>=1.3->pyautogen) (0.14.0)\n",
      "Requirement already satisfied: charset-normalizer<4,>=2 in /workspaces/Contract-Advisor-RAG/venv/lib/python3.10/site-packages (from requests>=2.26.0->docker->pyautogen) (3.3.2)\n",
      "Downloading pyautogen-0.2.32-py3-none-any.whl (314 kB)\n",
      "\u001b[2K   \u001b[90m━━━━━━━━━━━━━━━━━━━━━━━━━━━━━━━━━━━━━━━━\u001b[0m \u001b[32m314.4/314.4 kB\u001b[0m \u001b[31m1.9 MB/s\u001b[0m eta \u001b[36m0:00:00\u001b[0m00:01\u001b[0m00:01\u001b[0m\n",
      "\u001b[?25hInstalling collected packages: pyautogen\n",
      "Successfully installed pyautogen-0.2.32\n"
     ]
    }
   ],
   "source": [
    "!pip install pyautogen"
   ]
  },
  {
   "cell_type": "code",
   "execution_count": 2,
   "metadata": {},
   "outputs": [
    {
     "name": "stdout",
     "output_type": "stream",
     "text": [
      "models to use:  ['gpt-3.5-turbo-0125']\n"
     ]
    }
   ],
   "source": [
    "__import__('pysqlite3')\n",
    "import sys\n",
    "sys.modules['sqlite3'] = sys.modules.pop('pysqlite3')\n",
    "import os\n",
    "DATABASES = {\n",
    "    'default': {\n",
    "        'ENGINE': 'django.db.backends.sqlite3',\n",
    "        'NAME': os.path.join('.', 'db.sqlite3'),\n",
    "    }\n",
    "}\n",
    "import json\n",
    "\n",
    "\n",
    "import chromadb\n",
    "\n",
    "import autogen\n",
    "from autogen.agentchat.contrib.retrieve_assistant_agent import RetrieveAssistantAgent\n",
    "from autogen.agentchat.contrib.retrieve_user_proxy_agent import RetrieveUserProxyAgent\n",
    "\n",
    "# Accepted file formats for that can be stored in\n",
    "# a vector database instance\n",
    "from autogen.retrieve_utils import TEXT_FORMATS\n",
    "import os\n",
    "\n",
    "config_list = [\n",
    "    {\"model\": \"gpt-3.5-turbo-0125\", \"api_key\": os.getenv('OPENAI_API_KEYS'), \"api_type\": \"openai\"},\n",
    "]\n",
    "\n",
    "assert len(config_list) > 0\n",
    "print(\"models to use: \", [config_list[i][\"model\"] for i in range(len(config_list))])"
   ]
  },
  {
   "cell_type": "code",
   "execution_count": 5,
   "metadata": {},
   "outputs": [
    {
     "data": {
      "text/plain": [
       "<module 'autogen' from '/workspaces/Contract-Advisor-RAG/venv/lib/python3.10/site-packages/autogen/__init__.py'>"
      ]
     },
     "execution_count": 5,
     "metadata": {},
     "output_type": "execute_result"
    }
   ],
   "source": [
    "autogen"
   ]
  },
  {
   "cell_type": "code",
   "execution_count": 3,
   "metadata": {},
   "outputs": [],
   "source": [
    "from collections import defaultdict\n",
    "import datetime\n",
    "timer_array = []"
   ]
  },
  {
   "cell_type": "code",
   "execution_count": 7,
   "metadata": {},
   "outputs": [],
   "source": [
    "from autogen import AssistantAgent, UserProxyAgent"
   ]
  },
  {
   "cell_type": "code",
   "execution_count": 4,
   "metadata": {},
   "outputs": [],
   "source": [
    "worker = autogen.AssistantAgent(\n",
    "    name=\"worker\",\n",
    "    llm_config={\"config_list\": config_list, \"cache_seed\":42},\n",
    "    code_execution_config=False,\n",
    "\n",
    "    # the default system message of the AssistantAgent is overwritten here\n",
    "    system_message=\"You are a helpful AI worker. You are a worker agent who does exactly what you are told to do.\",\n",
    ")\n"
   ]
  },
  {
   "cell_type": "code",
   "execution_count": 5,
   "metadata": {},
   "outputs": [],
   "source": [
    "import sys\n",
    "sys.path.append(\"../\")"
   ]
  },
  {
   "cell_type": "code",
   "execution_count": 6,
   "metadata": {},
   "outputs": [],
   "source": [
    "from scripts.retrieval.retriever import retriever"
   ]
  },
  {
   "cell_type": "code",
   "execution_count": 7,
   "metadata": {},
   "outputs": [
    {
     "name": "stderr",
     "output_type": "stream",
     "text": [
      "/workspaces/Contract-Advisor-RAG/venv/lib/python3.10/site-packages/langchain_core/_api/deprecation.py:139: LangChainDeprecationWarning: The class `OpenAIEmbeddings` was deprecated in LangChain 0.0.9 and will be removed in 0.3.0. An updated version of the class exists in the langchain-openai package and should be used instead. To use it run `pip install -U langchain-openai` and import as `from langchain_openai import OpenAIEmbeddings`.\n",
      "  warn_deprecated(\n"
     ]
    }
   ],
   "source": [
    "retriever_obj = retriever()\n",
    "\n",
    "def ask_worker(message):\n",
    "     # context = \"\"\n",
    "      #if retrival == \"TRUE\":\n",
    "       # try:\n",
    "      print(\"retrival started\")\n",
    "      relevant_docs = retriever_obj.invoke(message)\n",
    "      context = \"\\n \" + \"Answer the question(message) from this important information to achieve the tasks: \" + vars(relevant_docs[0])['page_content']# + \" \" + vars(relevant_docs[1])['page_content']\n",
    "      #context = \"\\n \" + \"Answer the question(message) from this important information to achieve the tasks: \" + str(retriever_obj.invoke(message))\n",
    "      \n",
    "      print(context)\n",
    "      print(\"retrival ended\")\n",
    "\n",
    "      worker.llm_config = {\"config_list\": config_list, \"response_format\":{ \"type\": \"json_object\" }}\n",
    "      \n",
    "      prepared_message = [{'content':  message + context ,  'role': 'assistant'}]\n",
    "\n",
    "      print(\" ************** Fully Prepared Worker Context *************************\")\n",
    "      print(prepared_message[0][\"content\"])\n",
    "      print(\" ************** Fully Prepared Worker Context *************************\")\n",
    "\n",
    "      worker.llm_config = {\"config_list\": config_list, \"response_format\":{ \"type\": \"json_object\" }}\n",
    "      result = worker.generate_reply(messages=prepared_message)\n",
    "\n",
    "      return result\n",
    "        #except:\n",
    "         # print(\"retrival failed\")\n",
    "          # context = \"\""
   ]
  },
  {
   "cell_type": "code",
   "execution_count": 10,
   "metadata": {},
   "outputs": [],
   "source": [
    "message = 'What are the payments to the Advisor under the Agreement?'\n",
    "#result = retriever_obj.invoke(message)"
   ]
  },
  {
   "cell_type": "code",
   "execution_count": 11,
   "metadata": {},
   "outputs": [
    {
     "name": "stdout",
     "output_type": "stream",
     "text": [
      "retrival started\n"
     ]
    },
    {
     "name": "stdout",
     "output_type": "stream",
     "text": [
      "\n",
      " Answer the question(message) from this important information to achieve the tasks: Termination : Either party , at any given time, may terminate this Agreement, for any reason  whatsoever , with or without cause, upon fourteen (14) days’ prior written notice. Notwithstanding the  above, the Company may terminate this Agreement immediately and without prior notice if Advisor  refuses or is unable to perform the Services, or is in breach of any provision of this Agreement. 6. Compensation: 6.1 As full and sole consideration for the Services, and subject to the performance of the Services,  the Company shall pay the Advisor , against an invoice provided to the Company by Advisor ,  hourly fees at a rate of USD 9 (nine) per Billable Hour as defined below , limited to a maximum  of USD 1,500 per month (the \" Fees \"). In addition, the Company shall pay the advisor USD 100  per month to finance a workspace for the Advisor , as long as the Advisor actually hires a  professional workspace (the “ Workspace Expense ”). Advisor will not be entitled to any  additional fees or expense reimbursement whatsoever , except as expressly provided for in this  Agreement. Billable Hour: Net time devoted to the provisioning of the Services, without calculating meals,  travels or any other overhead time borne by the Advisor . 6.2 The Fees and the Workspace Expense for each month shall be payable by no later than ten (10)  days from the beginning of the following month, against receipt by the Company of a duly issued  tax invoice.\n",
      "retrival ended\n",
      " ************** Fully Prepared Worker Context *************************\n",
      "What are the payments to the Advisor under the Agreement?\n",
      " Answer the question(message) from this important information to achieve the tasks: Termination : Either party , at any given time, may terminate this Agreement, for any reason  whatsoever , with or without cause, upon fourteen (14) days’ prior written notice. Notwithstanding the  above, the Company may terminate this Agreement immediately and without prior notice if Advisor  refuses or is unable to perform the Services, or is in breach of any provision of this Agreement. 6. Compensation: 6.1 As full and sole consideration for the Services, and subject to the performance of the Services,  the Company shall pay the Advisor , against an invoice provided to the Company by Advisor ,  hourly fees at a rate of USD 9 (nine) per Billable Hour as defined below , limited to a maximum  of USD 1,500 per month (the \" Fees \"). In addition, the Company shall pay the advisor USD 100  per month to finance a workspace for the Advisor , as long as the Advisor actually hires a  professional workspace (the “ Workspace Expense ”). Advisor will not be entitled to any  additional fees or expense reimbursement whatsoever , except as expressly provided for in this  Agreement. Billable Hour: Net time devoted to the provisioning of the Services, without calculating meals,  travels or any other overhead time borne by the Advisor . 6.2 The Fees and the Workspace Expense for each month shall be payable by no later than ten (10)  days from the beginning of the following month, against receipt by the Company of a duly issued  tax invoice.\n",
      " ************** Fully Prepared Worker Context *************************\n"
     ]
    }
   ],
   "source": [
    "ret = ask_worker(message)"
   ]
  },
  {
   "cell_type": "code",
   "execution_count": 12,
   "metadata": {},
   "outputs": [
    {
     "data": {
      "text/plain": [
       "'The Advisor will be compensated with hourly fees at a rate of USD 9 per Billable Hour, limited to a maximum of USD 1,500 per month. In addition, the company will pay the Advisor USD 100 per month for a workspace expense, provided that the Advisor actually hires a professional workspace. The Fees and Workspace Expense for each month are payable by the company no later than ten days from the beginning of the following month, upon receipt of a duly issued tax invoice. The Advisor will not be entitled to any additional fees or expense reimbursement, except as specified in the Agreement.'"
      ]
     },
     "execution_count": 12,
     "metadata": {},
     "output_type": "execute_result"
    }
   ],
   "source": [
    "ret"
   ]
  },
  {
   "cell_type": "code",
   "execution_count": 39,
   "metadata": {},
   "outputs": [
    {
     "data": {
      "text/plain": [
       "'The payments to the Advisor under the Agreement are as follows:\\n\\n1. The Company shall pay the Advisor hourly fees at a rate of USD 9 per Billable Hour, limited to a maximum of USD 1,500 per month.\\n\\n2. The Company shall also pay the Advisor USD 100 per month to finance a workspace, provided that the Advisor actually hires a professional workspace.\\n\\n3. The Fees and the Workspace Expense for each month shall be payable by no later than ten (10) days from the beginning of the following month, against receipt by the Company of a duly issued tax invoice.\\n\\nAdvisor will not be entitled to any additional fees or expense reimbursement except as expressly provided for in the Agreement.'"
      ]
     },
     "execution_count": 39,
     "metadata": {},
     "output_type": "execute_result"
    }
   ],
   "source": [
    "ret"
   ]
  },
  {
   "cell_type": "code",
   "execution_count": 29,
   "metadata": {},
   "outputs": [
    {
     "name": "stderr",
     "output_type": "stream",
     "text": [
      "/workspaces/Contract-Advisor-RAG/venv/lib/python3.10/site-packages/langchain_core/_api/deprecation.py:139: LangChainDeprecationWarning: The method `BaseRetriever.get_relevant_documents` was deprecated in langchain-core 0.1.46 and will be removed in 0.3.0. Use invoke instead.\n",
      "  warn_deprecated(\n"
     ]
    },
    {
     "data": {
      "text/plain": [
       "[Document(page_content='The parties consent to the  exclusive jurisdiction and venue of Tel Aviv courts for any lawsuit filed arising from or relating to  this Agreement. 11. Notices : Notices under this Agreement shall be delivered to the party’ s email address as follows:  Company: info@cloudcorp.com , Advisor: jackrobinson@gmail.com , or in any the other means with a  proof of acceptance by the other party . IN WITNESS WHEREOF the parties have executed this Agreement as of the date first above written. Cloud Investments Ltd. Advisor By: ________________________ By:________________________ Name: Silvan Joseph Name: Jack Robinson Title: CEO  - 4 - Confidentiality, None Compete and IP Ownership Undertaking Appendix A to Advisory Service Agreement as of June 15 th , 2023 THIS CONFIDENTIALITY UNDER TAKING (“ Undertaking ”) is entered into as of June 15 th , 2023 (“ Effective Date ”), by Mr. Jack  Robinson, Passport Number 780055578, residing at 1 Rabin st, Tel Aviv, Israel, Email: jackrobinson@gmail.com, (“ Advisor ”), towards Cloud  Investments Ltd (“ Company ”), as follows: 1. Definitions: (a) Company’ s Business: development of an AI-based contract assistant. (b) Services: Software development services and/or  any other services provided by the Advisor to the Company . (c) Work Product: Any product of the Services, tangible and/or intangible,  including any inventions, discoveries and/or other intellectual property . (d) Confidential Information: any information disclosed by the  Company to the Advisor and/or created as a result of the Services (including Work Product), of any type, form (including orally) or media,  including (without limitation), code, specifications, architecture, design, data, algorithms, business plans, budget, customers / suppliers lists  etc.), but excluding information which prior to the disclosure was publicly available or known to the Advisor (both without breach of any  confidentiality obligation towards the Company). 2.'),\n",
       " Document(page_content='IN WITNESS WHEREOF , the undersigned has executed this Undertaking as of the Effective Date. Advisor By: _____________________________________ Name: Jack Robinson.')]"
      ]
     },
     "execution_count": 29,
     "metadata": {},
     "output_type": "execute_result"
    }
   ],
   "source": [
    "retriever_obj.get_relevant_documents(message)"
   ]
  },
  {
   "cell_type": "code",
   "execution_count": 38,
   "metadata": {},
   "outputs": [
    {
     "data": {
      "text/plain": [
       "'The parties consent to the  exclusive jurisdiction and venue of Tel Aviv courts for any lawsuit filed arising from or relating to  this Agreement. 11. Notices : Notices under this Agreement shall be delivered to the party’ s email address as follows:  Company: info@cloudcorp.com , Advisor: jackrobinson@gmail.com , or in any the other means with a  proof of acceptance by the other party . IN WITNESS WHEREOF the parties have executed this Agreement as of the date first above written. Cloud Investments Ltd. Advisor By: ________________________ By:________________________ Name: Silvan Joseph Name: Jack Robinson Title: CEO  - 4 - Confidentiality, None Compete and IP Ownership Undertaking Appendix A to Advisory Service Agreement as of June 15 th , 2023 THIS CONFIDENTIALITY UNDER TAKING (“ Undertaking ”) is entered into as of June 15 th , 2023 (“ Effective Date ”), by Mr. Jack  Robinson, Passport Number 780055578, residing at 1 Rabin st, Tel Aviv, Israel, Email: jackrobinson@gmail.com, (“ Advisor ”), towards Cloud  Investments Ltd (“ Company ”), as follows: 1. Definitions: (a) Company’ s Business: development of an AI-based contract assistant. (b) Services: Software development services and/or  any other services provided by the Advisor to the Company . (c) Work Product: Any product of the Services, tangible and/or intangible,  including any inventions, discoveries and/or other intellectual property . (d) Confidential Information: any information disclosed by the  Company to the Advisor and/or created as a result of the Services (including Work Product), of any type, form (including orally) or media,  including (without limitation), code, specifications, architecture, design, data, algorithms, business plans, budget, customers / suppliers lists  etc.), but excluding information which prior to the disclosure was publicly available or known to the Advisor (both without breach of any  confidentiality obligation towards the Company). 2.The parties consent to the  exclusive jurisdiction and venue of Tel Aviv courts for any lawsuit filed arising from or relating to  this Agreement. 11. Notices : Notices under this Agreement shall be delivered to the party’ s email address as follows:  Company: info@cloudcorp.com , Advisor: jackrobinson@gmail.com , or in any the other means with a  proof of acceptance by the other party . IN WITNESS WHEREOF the parties have executed this Agreement as of the date first above written. Cloud Investments Ltd. Advisor By: ________________________ By:________________________ Name: Silvan Joseph Name: Jack Robinson Title: CEO  - 4 - Confidentiality, None Compete and IP Ownership Undertaking Appendix A to Advisory Service Agreement as of June 15 th , 2023 THIS CONFIDENTIALITY UNDER TAKING (“ Undertaking ”) is entered into as of June 15 th , 2023 (“ Effective Date ”), by Mr. Jack  Robinson, Passport Number 780055578, residing at 1 Rabin st, Tel Aviv, Israel, Email: jackrobinson@gmail.com, (“ Advisor ”), towards Cloud  Investments Ltd (“ Company ”), as follows: 1. Definitions: (a) Company’ s Business: development of an AI-based contract assistant. (b) Services: Software development services and/or  any other services provided by the Advisor to the Company . (c) Work Product: Any product of the Services, tangible and/or intangible,  including any inventions, discoveries and/or other intellectual property . (d) Confidential Information: any information disclosed by the  Company to the Advisor and/or created as a result of the Services (including Work Product), of any type, form (including orally) or media,  including (without limitation), code, specifications, architecture, design, data, algorithms, business plans, budget, customers / suppliers lists  etc.), but excluding information which prior to the disclosure was publicly available or known to the Advisor (both without breach of any  confidentiality obligation towards the Company). 2.'"
      ]
     },
     "execution_count": 38,
     "metadata": {},
     "output_type": "execute_result"
    }
   ],
   "source": [
    "vars(result[0])['page_content'] + vars(result[0])['page_content']"
   ]
  },
  {
   "cell_type": "code",
   "execution_count": 42,
   "metadata": {},
   "outputs": [
    {
     "data": {
      "text/plain": [
       "\"[Document(page_content='The parties consent to the  exclusive jurisdiction and venue of Tel Aviv courts for any lawsuit filed arising from or relating to  this Agreement. 11. Notices : Notices under this Agreement shall be delivered to the party’ s email address as follows:  Company: info@cloudcorp.com , Advisor: jackrobinson@gmail.com , or in any the other means with a  proof of acceptance by the other party . IN WITNESS WHEREOF the parties have executed this Agreement as of the date first above written. Cloud Investments Ltd. Advisor By: ________________________ By:________________________ Name: Silvan Joseph Name: Jack Robinson Title: CEO  - 4 - Confidentiality, None Compete and IP Ownership Undertaking Appendix A to Advisory Service Agreement as of June 15 th , 2023 THIS CONFIDENTIALITY UNDER TAKING (“ Undertaking ”) is entered into as of June 15 th , 2023 (“ Effective Date ”), by Mr. Jack  Robinson, Passport Number 780055578, residing at 1 Rabin st, Tel Aviv, Israel, Email: jackrobinson@gmail.com, (“ Advisor ”), towards Cloud  Investments Ltd (“ Company ”), as follows: 1. Definitions: (a) Company’ s Business: development of an AI-based contract assistant. (b) Services: Software development services and/or  any other services provided by the Advisor to the Company . (c) Work Product: Any product of the Services, tangible and/or intangible,  including any inventions, discoveries and/or other intellectual property . (d) Confidential Information: any information disclosed by the  Company to the Advisor and/or created as a result of the Services (including Work Product), of any type, form (including orally) or media,  including (without limitation), code, specifications, architecture, design, data, algorithms, business plans, budget, customers / suppliers lists  etc.), but excluding information which prior to the disclosure was publicly available or known to the Advisor (both without breach of any  confidentiality obligation towards the Company). 2.'), Document(page_content='IN WITNESS WHEREOF , the undersigned has executed this Undertaking as of the Effective Date. Advisor By: _____________________________________ Name: Jack Robinson.')]\""
      ]
     },
     "execution_count": 42,
     "metadata": {},
     "output_type": "execute_result"
    }
   ],
   "source": [
    "str(result[0]) "
   ]
  },
  {
   "cell_type": "code",
   "execution_count": 41,
   "metadata": {},
   "outputs": [
    {
     "data": {
      "text/plain": [
       "[Document(page_content='The parties consent to the  exclusive jurisdiction and venue of Tel Aviv courts for any lawsuit filed arising from or relating to  this Agreement. 11. Notices : Notices under this Agreement shall be delivered to the party’ s email address as follows:  Company: info@cloudcorp.com , Advisor: jackrobinson@gmail.com , or in any the other means with a  proof of acceptance by the other party . IN WITNESS WHEREOF the parties have executed this Agreement as of the date first above written. Cloud Investments Ltd. Advisor By: ________________________ By:________________________ Name: Silvan Joseph Name: Jack Robinson Title: CEO  - 4 - Confidentiality, None Compete and IP Ownership Undertaking Appendix A to Advisory Service Agreement as of June 15 th , 2023 THIS CONFIDENTIALITY UNDER TAKING (“ Undertaking ”) is entered into as of June 15 th , 2023 (“ Effective Date ”), by Mr. Jack  Robinson, Passport Number 780055578, residing at 1 Rabin st, Tel Aviv, Israel, Email: jackrobinson@gmail.com, (“ Advisor ”), towards Cloud  Investments Ltd (“ Company ”), as follows: 1. Definitions: (a) Company’ s Business: development of an AI-based contract assistant. (b) Services: Software development services and/or  any other services provided by the Advisor to the Company . (c) Work Product: Any product of the Services, tangible and/or intangible,  including any inventions, discoveries and/or other intellectual property . (d) Confidential Information: any information disclosed by the  Company to the Advisor and/or created as a result of the Services (including Work Product), of any type, form (including orally) or media,  including (without limitation), code, specifications, architecture, design, data, algorithms, business plans, budget, customers / suppliers lists  etc.), but excluding information which prior to the disclosure was publicly available or known to the Advisor (both without breach of any  confidentiality obligation towards the Company). 2.'),\n",
       " Document(page_content='IN WITNESS WHEREOF , the undersigned has executed this Undertaking as of the Effective Date. Advisor By: _____________________________________ Name: Jack Robinson.')]"
      ]
     },
     "execution_count": 41,
     "metadata": {},
     "output_type": "execute_result"
    }
   ],
   "source": [
    "result"
   ]
  },
  {
   "cell_type": "code",
   "execution_count": 25,
   "metadata": {},
   "outputs": [],
   "source": [
    "assistant = autogen.AssistantAgent(\n",
    "    name=\"assistant\",\n",
    "    # system_message=\"\"\"\n",
    "    \n",
    "    # Your goal is to assist users by providing precise and helpful answers based on a contract document.\n",
    "    # The document in question is an Advisory Services Agreement.\n",
    "    # Given the user query, generate a well-structured and informative response by extracting relevant information from the document.\n",
    "    # Ensure the response is concise, accurate, and directly addresses the query.\n",
    "    # \"\"\",\n",
    "\n",
    "    system_message = \"\"\"\n",
    "    You are an AI expert specialized in contract analysis and advisory services. Your primary objective is to plan steps to appropriately solve users'\\\n",
    "     requests or tasks using worker function calling.\n",
    "\n",
    "    The main problems you will be solving include:\n",
    "    - Answering contract questions\n",
    "\n",
    "    Your tasks:\n",
    "    1. Use the `ask_worker` function to delegate each step, ensuring it returns the results upon task completion.\n",
    "    2. VERY IMPORTANT: Before you return any result ensure that you do not need worker skills to perform a task.\n",
    "\n",
    "    Key guidelines:\n",
    "    - ALWAYS use the ask_worker function for the task and send it only the most important instructions and commands.\n",
    "    - FORCE the ask_worker function to only give you the answer for your request without adding explanation or guidance what it achieved.\n",
    "\n",
    "    Communication:\n",
    "    - Your answer should be constructed in the given language the user used to ask.\n",
    "    - Before responding to the user make sure you used all the skills the worker function provides.\n",
    "    - When communicating with the Worker make sure to send The most Important context to it.\n",
    "\n",
    "    \"\"\",\n",
    "\n",
    "    llm_config={\n",
    "        \"timeout\": 600,\n",
    "        \"cache_seed\": 42,\n",
    "        \"config_list\": config_list,\n",
    "        \"functions\": [\n",
    "             {\n",
    "                        \"name\": \"ask_worker\",\n",
    "                        \"description\": \"ask worker to:  1. generate questions for requirement gathering, 2. retrieve relevant contract based on the topic sent as message, 3. Return the answer based on the message and the retrived relevant document\",\n",
    "                        \"parameters\": {\n",
    "                            \"type\": \"object\",\n",
    "                            \"properties\": {\n",
    "                                \"message\": {\n",
    "                                    \"type\": \"string\",\n",
    "                                    \"description\": \"question to ask worker. Make sure the question include enough context, such as the required task. The worker does not know the conversation between you and the user, unless you share the conversation with the worker. Ensure the original question of the user is also passed as context such that the worker is generating intermediate steps necessary to address it. It is VERY IMPORTANT that you provide a clear and autoritative feedback to the worker to stay focused on answering the original question.\"\n",
    "                                    },\n",
    "                                # \"message_type\": {\n",
    "                                #     \"type\": \"string\",\n",
    "                                #     \"description\": \"Type of work you want it to achieve. Options are: 'REQUIREMENT GATHERING','SIMPLE QUESTION ANSWERING'\"\n",
    "                                # },\n",
    "                                # \"retrival\":{\n",
    "                                #     \"type\": \"string\",\n",
    "                                #     \"description\": \"Becomes 'TRUE' or 'FALSE' which would indicate to perform retrieval of relevant articles from the law to achieve the task\"\n",
    "                                # },\n",
    "                            },\n",
    "                                \n",
    "                        }\n",
    "                        }\n",
    "             \n",
    "        ],\n",
    "    },\n",
    ")"
   ]
  },
  {
   "cell_type": "code",
   "execution_count": 46,
   "metadata": {},
   "outputs": [],
   "source": [
    "user_proxy = autogen.UserProxyAgent(\n",
    "    name=\"user_proxy\",\n",
    "    #is_termination_msg=termination_msg,\n",
    "    human_input_mode=\"NEVER\",\n",
    "    max_consecutive_auto_reply=1,\n",
    "    is_termination_msg=lambda x: \"content\" in x and x[\"content\"] is not None and x[\"content\"].rstrip().endswith(\"TERMINATE\"),\n",
    "    # code_execution_config={\"work_dir\": \"planning\"},\n",
    "    function_map={\"ask_worker\": ask_worker },\n",
    ")\n"
   ]
  },
  {
   "cell_type": "code",
   "execution_count": 27,
   "metadata": {},
   "outputs": [
    {
     "name": "stdout",
     "output_type": "stream",
     "text": [
      "Actual usage summary for assistant (excluding completion from cache): {'total_cost': 0.0013050000000000002, 'gpt-3.5-turbo-0125': {'cost': 0.0013050000000000002, 'prompt_tokens': 2238, 'completion_tokens': 124, 'total_tokens': 2362}}\n"
     ]
    }
   ],
   "source": [
    "print(\"Actual usage summary for assistant (excluding completion from cache):\", assistant.get_actual_usage())"
   ]
  },
  {
   "cell_type": "code",
   "execution_count": 22,
   "metadata": {},
   "outputs": [],
   "source": [
    "def chat_with_agent(message):\n",
    "  # combined_message, lang = translate_to_dest(message,\"en\")\n",
    "  user_proxy.initiate_chat(\n",
    "      assistant,\n",
    "      #clear_history=False,\n",
    "     # silent=True,\n",
    "      message=message\n",
    "  )"
   ]
  },
  {
   "cell_type": "code",
   "execution_count": 50,
   "metadata": {},
   "outputs": [],
   "source": [
    "message = 'What happens if the Advisor claims compensation based on employment relationship with the Company? '"
   ]
  },
  {
   "cell_type": "code",
   "execution_count": 51,
   "metadata": {},
   "outputs": [
    {
     "name": "stdout",
     "output_type": "stream",
     "text": [
      "\u001b[33muser_proxy\u001b[0m (to assistant):\n",
      "\n",
      "What happens if the Advisor claims compensation based on employment relationship with the Company? \n",
      "\n",
      "--------------------------------------------------------------------------------\n",
      "\u001b[33massistant\u001b[0m (to user_proxy):\n",
      "\n",
      "\u001b[32m***** Suggested function call: ask_worker *****\u001b[0m\n",
      "Arguments: \n",
      "{\"message\":\"Explain the consequences if the Advisor claims compensation based on an employment relationship with the Company.\"}\n",
      "\u001b[32m***********************************************\u001b[0m\n",
      "\n",
      "--------------------------------------------------------------------------------\n",
      "\u001b[35m\n",
      ">>>>>>>> EXECUTING FUNCTION ask_worker...\u001b[0m\n",
      "retrival started\n",
      "\n",
      " Answer the question(message) from this important information to achieve the tasks: Without derogating from the above, if it is adjudicated or otherwise determined by any  governmental authority that the Advisor and/or anyone on Advisor's behalf, is, regardless of the terms  of this Agreement, an employee of the Company , then payments to Advisor hereunder shall be  reduced effective retroactively as of the beginning of the Term so that 60% of such payments shall  - 3 - constitute salary payments, and 40% of such payments shall constitute payment by the Company for  all other Advisor statutory rights and benefits as employee of the Company throughout the Term.  Advisor further consents that the Company may offset any amounts due to him under this Section  from any amounts payable to Advisor under this Agreement. Advisor shall indemnify the Company  for any loss or expenses incurred by the Company if it were determined that an alleged  employer/employee relationship existed between the Advisor and the Company . 9. Entir e Agreement; No Waiver or Assignment : This Agreement together with the Exhibits, which  are attached hereto and incorporated herein, set forth the entire Agreement between the parties and  shall supersede all previous communications and agreements between the parties, either oral or  written. This Agreement may be modified only by a written amendment executed by both parties.  This Agreement may not be assigned, sold, delegated or transferred in any manner by Advisor for any  reason whatsoever . The Company may assign the Agreement to a successor of all or substantially all  of its assets or business, provided the assignee has assumed the Company’ s obligations under this  Agreement. 10. Governing Law and Jurisdiction : This Agreement shall be governed by the laws of the State of  Israel, without giving effect to the rules respecting conflicts of laws.\n",
      "retrival ended\n",
      " ************** Fully Prepared Worker Context *************************\n",
      "Explain the consequences if the Advisor claims compensation based on an employment relationship with the Company.\n",
      " Answer the question(message) from this important information to achieve the tasks: Without derogating from the above, if it is adjudicated or otherwise determined by any  governmental authority that the Advisor and/or anyone on Advisor's behalf, is, regardless of the terms  of this Agreement, an employee of the Company , then payments to Advisor hereunder shall be  reduced effective retroactively as of the beginning of the Term so that 60% of such payments shall  - 3 - constitute salary payments, and 40% of such payments shall constitute payment by the Company for  all other Advisor statutory rights and benefits as employee of the Company throughout the Term.  Advisor further consents that the Company may offset any amounts due to him under this Section  from any amounts payable to Advisor under this Agreement. Advisor shall indemnify the Company  for any loss or expenses incurred by the Company if it were determined that an alleged  employer/employee relationship existed between the Advisor and the Company . 9. Entir e Agreement; No Waiver or Assignment : This Agreement together with the Exhibits, which  are attached hereto and incorporated herein, set forth the entire Agreement between the parties and  shall supersede all previous communications and agreements between the parties, either oral or  written. This Agreement may be modified only by a written amendment executed by both parties.  This Agreement may not be assigned, sold, delegated or transferred in any manner by Advisor for any  reason whatsoever . The Company may assign the Agreement to a successor of all or substantially all  of its assets or business, provided the assignee has assumed the Company’ s obligations under this  Agreement. 10. Governing Law and Jurisdiction : This Agreement shall be governed by the laws of the State of  Israel, without giving effect to the rules respecting conflicts of laws.\n",
      " ************** Fully Prepared Worker Context *************************\n",
      "\u001b[33muser_proxy\u001b[0m (to assistant):\n",
      "\n",
      "\u001b[32m***** Response from calling function (ask_worker) *****\u001b[0m\n",
      "If the Advisor claims compensation based on an employment relationship with the Company, and it is adjudicated or determined by any governmental authority that the Advisor is an employee of the Company, then the payments to the Advisor under the agreement will be adjusted. Specifically, 60% of the payments will be considered salary payments, and 40% will be for other statutory rights and benefits as an employee of the Company throughout the contractual term.\n",
      "\n",
      "Furthermore, the Company can offset any amounts owed to the Advisor under this provision from any other payments due to the Advisor. The Advisor also agrees to indemnify the Company for any losses or expenses incurred if it is determined that an employer/employee relationship existed between the Advisor and the Company.\n",
      "\u001b[32m*******************************************************\u001b[0m\n",
      "\n",
      "--------------------------------------------------------------------------------\n",
      "\u001b[33massistant\u001b[0m (to user_proxy):\n",
      "\n",
      "If the Advisor claims compensation based on an employment relationship with the Company, 60% of the payments will be considered as salary payments, and 40% for other statutory rights and benefits. The Company can offset amounts owed to the Advisor from other payments due, and the Advisor must indemnify the Company for any losses in case of an employer/employee relationship. \n",
      "\n",
      "--------------------------------------------------------------------------------\n"
     ]
    }
   ],
   "source": [
    "chat_with_agent(message)"
   ]
  },
  {
   "cell_type": "code",
   "execution_count": 52,
   "metadata": {},
   "outputs": [
    {
     "data": {
      "text/plain": [
       "'If the Advisor claims compensation based on an employment relationship with the Company, 60% of the payments will be considered as salary payments, and 40% for other statutory rights and benefits. The Company can offset amounts owed to the Advisor from other payments due, and the Advisor must indemnify the Company for any losses in case of an employer/employee relationship. '"
      ]
     },
     "execution_count": 52,
     "metadata": {},
     "output_type": "execute_result"
    }
   ],
   "source": [
    "[messages for agent, messages in user_proxy.chat_messages.items()][0][-1]['content']"
   ]
  },
  {
   "cell_type": "code",
   "execution_count": 83,
   "metadata": {},
   "outputs": [],
   "source": [
    "from ragas.metrics import (\n",
    "    faithfulness,\n",
    "    answer_relevancy,\n",
    "    context_recall,\n",
    "    context_precision,\n",
    "    answer_similarity,\n",
    ")\n",
    "from ragas import evaluate\n",
    "from scripts.evaluation.evaluation_result import visualize_result"
   ]
  },
  {
   "cell_type": "code",
   "execution_count": 59,
   "metadata": {},
   "outputs": [],
   "source": [
    "import docx\n",
    "def load_evaluation_dataset(docx_path):\n",
    "    \"\"\"\n",
    "    Loads an evaluation dataset from a DOCX file.\n",
    "\n",
    "    Parameters:\n",
    "    docx_path (str): Path to the DOCX file containing the questions and answers.\n",
    "\n",
    "    Returns:\n",
    "    tuple: Two lists, one with questions and one with corresponding answers.\n",
    "    \"\"\"\n",
    "    doc = docx.Document(docx_path)\n",
    "    questions = []\n",
    "    answers = []\n",
    "\n",
    "    for para in doc.paragraphs:\n",
    "        text = para.text.strip()\n",
    "        if text.startswith(\"Q\"):\n",
    "            questions.append(text)\n",
    "        elif text.startswith(\"A\"):\n",
    "            answers.append(text)\n",
    "\n",
    "    return questions, answers"
   ]
  },
  {
   "cell_type": "code",
   "execution_count": 61,
   "metadata": {},
   "outputs": [],
   "source": [
    "questions, ground_truth = load_evaluation_dataset(\"../data/Robinson Q&A.docx\")"
   ]
  },
  {
   "cell_type": "code",
   "execution_count": 71,
   "metadata": {},
   "outputs": [],
   "source": [
    "from dotenv import load_dotenv\n",
    "import os\n",
    "\n",
    "load_dotenv()\n",
    "openai_key = os.getenv(\"OPENAI_API_KEYS\")\n",
    "pinecone_key = os.getenv(\"PINECONE_API_KEYS\")\n",
    "\n",
    "os.environ[\"OPENAI_API_KEY\"] = openai_key"
   ]
  },
  {
   "cell_type": "code",
   "execution_count": 85,
   "metadata": {},
   "outputs": [],
   "source": [
    "from datasets import Dataset\n",
    "import asyncio\n",
    "def evaluate_metrics():\n",
    "    \"\"\"\n",
    "    Evaluates performance metrics for generated responses.\n",
    "\n",
    "    Returns:\n",
    "    dict: A dictionary with the evaluation metrics.\n",
    "    \"\"\"\n",
    "    answers = []\n",
    "    contexts = []\n",
    "    loop = asyncio.get_event_loop()\n",
    "\n",
    "    for question in questions:\n",
    "        #relevant_docs = retriever_obj.invoke(question)\n",
    "    #    context = \"\\n \" + \"Answer the question(message) from this important information to achieve the tasks: \" + vars(relevant_docs[0])['page_content']# + \" \" + vars(relevant_docs[1])['page_content']\n",
    "   \n",
    "        result = ask_worker(question)\n",
    "        answers.append(result)\n",
    "        contexts.append(\n",
    "            #vars(relevant_docs[0])['page_content']\n",
    "            [docs.page_content for docs in retriever_obj.get_relevant_documents(question)]\n",
    "        )\n",
    "\n",
    "    data = {\n",
    "        \"question\": questions,\n",
    "        \"answer\": answers,\n",
    "        \"contexts\": contexts,\n",
    "        \"ground_truth\": ground_truth,\n",
    "    }\n",
    "\n",
    "    dataset = Dataset.from_dict(data)\n",
    "\n",
    "    print(dataset)\n",
    "\n",
    "    result = evaluate(\n",
    "        dataset=dataset,\n",
    "        metrics=[\n",
    "            context_precision,\n",
    "            context_recall,\n",
    "            faithfulness,\n",
    "            answer_relevancy,\n",
    "            answer_similarity,\n",
    "        ],\n",
    "    )\n",
    "\n",
    "    return result"
   ]
  },
  {
   "cell_type": "code",
   "execution_count": 86,
   "metadata": {},
   "outputs": [],
   "source": [
    "retriever_obj = retriever()"
   ]
  },
  {
   "cell_type": "code",
   "execution_count": 87,
   "metadata": {},
   "outputs": [
    {
     "name": "stdout",
     "output_type": "stream",
     "text": [
      "retrival started\n"
     ]
    },
    {
     "name": "stdout",
     "output_type": "stream",
     "text": [
      "\n",
      " Answer the question(message) from this important information to achieve the tasks: The parties consent to the  exclusive jurisdiction and venue of Tel Aviv courts for any lawsuit filed arising from or relating to  this Agreement. 11. Notices : Notices under this Agreement shall be delivered to the party’ s email address as follows:  Company: info@cloudcorp.com , Advisor: jackrobinson@gmail.com , or in any the other means with a  proof of acceptance by the other party . IN WITNESS WHEREOF the parties have executed this Agreement as of the date first above written. Cloud Investments Ltd. Advisor By: ________________________ By:________________________ Name: Silvan Joseph Name: Jack Robinson Title: CEO  - 4 - Confidentiality, None Compete and IP Ownership Undertaking Appendix A to Advisory Service Agreement as of June 15 th , 2023 THIS CONFIDENTIALITY UNDER TAKING (“ Undertaking ”) is entered into as of June 15 th , 2023 (“ Effective Date ”), by Mr. Jack  Robinson, Passport Number 780055578, residing at 1 Rabin st, Tel Aviv, Israel, Email: jackrobinson@gmail.com, (“ Advisor ”), towards Cloud  Investments Ltd (“ Company ”), as follows: 1. Definitions: (a) Company’ s Business: development of an AI-based contract assistant. (b) Services: Software development services and/or  any other services provided by the Advisor to the Company . (c) Work Product: Any product of the Services, tangible and/or intangible,  including any inventions, discoveries and/or other intellectual property . (d) Confidential Information: any information disclosed by the  Company to the Advisor and/or created as a result of the Services (including Work Product), of any type, form (including orally) or media,  including (without limitation), code, specifications, architecture, design, data, algorithms, business plans, budget, customers / suppliers lists  etc.), but excluding information which prior to the disclosure was publicly available or known to the Advisor (both without breach of any  confidentiality obligation towards the Company). 2.\n",
      "retrival ended\n",
      " ************** Fully Prepared Worker Context *************************\n",
      "Q1: Who are the parties to the Agreement and what are their defined names?\n",
      " Answer the question(message) from this important information to achieve the tasks: The parties consent to the  exclusive jurisdiction and venue of Tel Aviv courts for any lawsuit filed arising from or relating to  this Agreement. 11. Notices : Notices under this Agreement shall be delivered to the party’ s email address as follows:  Company: info@cloudcorp.com , Advisor: jackrobinson@gmail.com , or in any the other means with a  proof of acceptance by the other party . IN WITNESS WHEREOF the parties have executed this Agreement as of the date first above written. Cloud Investments Ltd. Advisor By: ________________________ By:________________________ Name: Silvan Joseph Name: Jack Robinson Title: CEO  - 4 - Confidentiality, None Compete and IP Ownership Undertaking Appendix A to Advisory Service Agreement as of June 15 th , 2023 THIS CONFIDENTIALITY UNDER TAKING (“ Undertaking ”) is entered into as of June 15 th , 2023 (“ Effective Date ”), by Mr. Jack  Robinson, Passport Number 780055578, residing at 1 Rabin st, Tel Aviv, Israel, Email: jackrobinson@gmail.com, (“ Advisor ”), towards Cloud  Investments Ltd (“ Company ”), as follows: 1. Definitions: (a) Company’ s Business: development of an AI-based contract assistant. (b) Services: Software development services and/or  any other services provided by the Advisor to the Company . (c) Work Product: Any product of the Services, tangible and/or intangible,  including any inventions, discoveries and/or other intellectual property . (d) Confidential Information: any information disclosed by the  Company to the Advisor and/or created as a result of the Services (including Work Product), of any type, form (including orally) or media,  including (without limitation), code, specifications, architecture, design, data, algorithms, business plans, budget, customers / suppliers lists  etc.), but excluding information which prior to the disclosure was publicly available or known to the Advisor (both without breach of any  confidentiality obligation towards the Company). 2.\n",
      " ************** Fully Prepared Worker Context *************************\n",
      "retrival started\n",
      "\n",
      " Answer the question(message) from this important information to achieve the tasks: Termination : Either party , at any given time, may terminate this Agreement, for any reason  whatsoever , with or without cause, upon fourteen (14) days’ prior written notice. Notwithstanding the  above, the Company may terminate this Agreement immediately and without prior notice if Advisor  refuses or is unable to perform the Services, or is in breach of any provision of this Agreement. 6. Compensation: 6.1 As full and sole consideration for the Services, and subject to the performance of the Services,  the Company shall pay the Advisor , against an invoice provided to the Company by Advisor ,  hourly fees at a rate of USD 9 (nine) per Billable Hour as defined below , limited to a maximum  of USD 1,500 per month (the \" Fees \"). In addition, the Company shall pay the advisor USD 100  per month to finance a workspace for the Advisor , as long as the Advisor actually hires a  professional workspace (the “ Workspace Expense ”). Advisor will not be entitled to any  additional fees or expense reimbursement whatsoever , except as expressly provided for in this  Agreement. Billable Hour: Net time devoted to the provisioning of the Services, without calculating meals,  travels or any other overhead time borne by the Advisor . 6.2 The Fees and the Workspace Expense for each month shall be payable by no later than ten (10)  days from the beginning of the following month, against receipt by the Company of a duly issued  tax invoice.\n",
      "retrival ended\n",
      " ************** Fully Prepared Worker Context *************************\n",
      "Q2:   What is the termination notice?\n",
      " Answer the question(message) from this important information to achieve the tasks: Termination : Either party , at any given time, may terminate this Agreement, for any reason  whatsoever , with or without cause, upon fourteen (14) days’ prior written notice. Notwithstanding the  above, the Company may terminate this Agreement immediately and without prior notice if Advisor  refuses or is unable to perform the Services, or is in breach of any provision of this Agreement. 6. Compensation: 6.1 As full and sole consideration for the Services, and subject to the performance of the Services,  the Company shall pay the Advisor , against an invoice provided to the Company by Advisor ,  hourly fees at a rate of USD 9 (nine) per Billable Hour as defined below , limited to a maximum  of USD 1,500 per month (the \" Fees \"). In addition, the Company shall pay the advisor USD 100  per month to finance a workspace for the Advisor , as long as the Advisor actually hires a  professional workspace (the “ Workspace Expense ”). Advisor will not be entitled to any  additional fees or expense reimbursement whatsoever , except as expressly provided for in this  Agreement. Billable Hour: Net time devoted to the provisioning of the Services, without calculating meals,  travels or any other overhead time borne by the Advisor . 6.2 The Fees and the Workspace Expense for each month shall be payable by no later than ten (10)  days from the beginning of the following month, against receipt by the Company of a duly issued  tax invoice.\n",
      " ************** Fully Prepared Worker Context *************************\n",
      "retrival started\n",
      "\n",
      " Answer the question(message) from this important information to achieve the tasks: Termination : Either party , at any given time, may terminate this Agreement, for any reason  whatsoever , with or without cause, upon fourteen (14) days’ prior written notice. Notwithstanding the  above, the Company may terminate this Agreement immediately and without prior notice if Advisor  refuses or is unable to perform the Services, or is in breach of any provision of this Agreement. 6. Compensation: 6.1 As full and sole consideration for the Services, and subject to the performance of the Services,  the Company shall pay the Advisor , against an invoice provided to the Company by Advisor ,  hourly fees at a rate of USD 9 (nine) per Billable Hour as defined below , limited to a maximum  of USD 1,500 per month (the \" Fees \"). In addition, the Company shall pay the advisor USD 100  per month to finance a workspace for the Advisor , as long as the Advisor actually hires a  professional workspace (the “ Workspace Expense ”). Advisor will not be entitled to any  additional fees or expense reimbursement whatsoever , except as expressly provided for in this  Agreement. Billable Hour: Net time devoted to the provisioning of the Services, without calculating meals,  travels or any other overhead time borne by the Advisor . 6.2 The Fees and the Workspace Expense for each month shall be payable by no later than ten (10)  days from the beginning of the following month, against receipt by the Company of a duly issued  tax invoice.\n",
      "retrival ended\n",
      " ************** Fully Prepared Worker Context *************************\n",
      "Q3: What are the payments to the Advisor under the Agreement?\n",
      " Answer the question(message) from this important information to achieve the tasks: Termination : Either party , at any given time, may terminate this Agreement, for any reason  whatsoever , with or without cause, upon fourteen (14) days’ prior written notice. Notwithstanding the  above, the Company may terminate this Agreement immediately and without prior notice if Advisor  refuses or is unable to perform the Services, or is in breach of any provision of this Agreement. 6. Compensation: 6.1 As full and sole consideration for the Services, and subject to the performance of the Services,  the Company shall pay the Advisor , against an invoice provided to the Company by Advisor ,  hourly fees at a rate of USD 9 (nine) per Billable Hour as defined below , limited to a maximum  of USD 1,500 per month (the \" Fees \"). In addition, the Company shall pay the advisor USD 100  per month to finance a workspace for the Advisor , as long as the Advisor actually hires a  professional workspace (the “ Workspace Expense ”). Advisor will not be entitled to any  additional fees or expense reimbursement whatsoever , except as expressly provided for in this  Agreement. Billable Hour: Net time devoted to the provisioning of the Services, without calculating meals,  travels or any other overhead time borne by the Advisor . 6.2 The Fees and the Workspace Expense for each month shall be payable by no later than ten (10)  days from the beginning of the following month, against receipt by the Company of a duly issued  tax invoice.\n",
      " ************** Fully Prepared Worker Context *************************\n",
      "retrival started\n",
      "\n",
      " Answer the question(message) from this important information to achieve the tasks: Without derogating from the above, if it is adjudicated or otherwise determined by any  governmental authority that the Advisor and/or anyone on Advisor's behalf, is, regardless of the terms  of this Agreement, an employee of the Company , then payments to Advisor hereunder shall be  reduced effective retroactively as of the beginning of the Term so that 60% of such payments shall  - 3 - constitute salary payments, and 40% of such payments shall constitute payment by the Company for  all other Advisor statutory rights and benefits as employee of the Company throughout the Term.  Advisor further consents that the Company may offset any amounts due to him under this Section  from any amounts payable to Advisor under this Agreement. Advisor shall indemnify the Company  for any loss or expenses incurred by the Company if it were determined that an alleged  employer/employee relationship existed between the Advisor and the Company . 9. Entir e Agreement; No Waiver or Assignment : This Agreement together with the Exhibits, which  are attached hereto and incorporated herein, set forth the entire Agreement between the parties and  shall supersede all previous communications and agreements between the parties, either oral or  written. This Agreement may be modified only by a written amendment executed by both parties.  This Agreement may not be assigned, sold, delegated or transferred in any manner by Advisor for any  reason whatsoever . The Company may assign the Agreement to a successor of all or substantially all  of its assets or business, provided the assignee has assumed the Company’ s obligations under this  Agreement. 10. Governing Law and Jurisdiction : This Agreement shall be governed by the laws of the State of  Israel, without giving effect to the rules respecting conflicts of laws.\n",
      "retrival ended\n",
      " ************** Fully Prepared Worker Context *************************\n",
      "Q4:  Can the Agreement or any of its obligations be assigned?\n",
      " Answer the question(message) from this important information to achieve the tasks: Without derogating from the above, if it is adjudicated or otherwise determined by any  governmental authority that the Advisor and/or anyone on Advisor's behalf, is, regardless of the terms  of this Agreement, an employee of the Company , then payments to Advisor hereunder shall be  reduced effective retroactively as of the beginning of the Term so that 60% of such payments shall  - 3 - constitute salary payments, and 40% of such payments shall constitute payment by the Company for  all other Advisor statutory rights and benefits as employee of the Company throughout the Term.  Advisor further consents that the Company may offset any amounts due to him under this Section  from any amounts payable to Advisor under this Agreement. Advisor shall indemnify the Company  for any loss or expenses incurred by the Company if it were determined that an alleged  employer/employee relationship existed between the Advisor and the Company . 9. Entir e Agreement; No Waiver or Assignment : This Agreement together with the Exhibits, which  are attached hereto and incorporated herein, set forth the entire Agreement between the parties and  shall supersede all previous communications and agreements between the parties, either oral or  written. This Agreement may be modified only by a written amendment executed by both parties.  This Agreement may not be assigned, sold, delegated or transferred in any manner by Advisor for any  reason whatsoever . The Company may assign the Agreement to a successor of all or substantially all  of its assets or business, provided the assignee has assumed the Company’ s obligations under this  Agreement. 10. Governing Law and Jurisdiction : This Agreement shall be governed by the laws of the State of  Israel, without giving effect to the rules respecting conflicts of laws.\n",
      " ************** Fully Prepared Worker Context *************************\n",
      "retrival started\n",
      "\n",
      " Answer the question(message) from this important information to achieve the tasks: IP: Any Work Product, upon creation, shall be fully and exclusively owned by the Company . The Advisor , immediately upon Company’ s  request, shall sign any document and/or perform any action needed to formalize such ownership. The Advisor shall not obtain any rights in  the Work Product, including moral rights and/or rights for royalties or other consideration under any applicable law (including Section 134  of the Israeli Patent Law – 1967 if applicable), and shall not be entitled to any compensation with respect to the Services, which was not  specifically agreed, in writing, between the Advisor and the Company . 5. Non-Compete : During the term of engagement with the Company and for a period of 12 months thereafter , Advisor shall not be involved,  as an employee, owner , contractor or otherwise, in any business, which competes with the Company’ s Business, and shall not solicit and/or  hire any employee and/or service provider of the Company , without the prior written consent of the Company . 6.\n",
      "retrival ended\n",
      " ************** Fully Prepared Worker Context *************************\n",
      "Q5: Who owns the IP?\n",
      " Answer the question(message) from this important information to achieve the tasks: IP: Any Work Product, upon creation, shall be fully and exclusively owned by the Company . The Advisor , immediately upon Company’ s  request, shall sign any document and/or perform any action needed to formalize such ownership. The Advisor shall not obtain any rights in  the Work Product, including moral rights and/or rights for royalties or other consideration under any applicable law (including Section 134  of the Israeli Patent Law – 1967 if applicable), and shall not be entitled to any compensation with respect to the Services, which was not  specifically agreed, in writing, between the Advisor and the Company . 5. Non-Compete : During the term of engagement with the Company and for a period of 12 months thereafter , Advisor shall not be involved,  as an employee, owner , contractor or otherwise, in any business, which competes with the Company’ s Business, and shall not solicit and/or  hire any employee and/or service provider of the Company , without the prior written consent of the Company . 6.\n",
      " ************** Fully Prepared Worker Context *************************\n",
      "retrival started\n",
      "\n",
      " Answer the question(message) from this important information to achieve the tasks: IP: Any Work Product, upon creation, shall be fully and exclusively owned by the Company . The Advisor , immediately upon Company’ s  request, shall sign any document and/or perform any action needed to formalize such ownership. The Advisor shall not obtain any rights in  the Work Product, including moral rights and/or rights for royalties or other consideration under any applicable law (including Section 134  of the Israeli Patent Law – 1967 if applicable), and shall not be entitled to any compensation with respect to the Services, which was not  specifically agreed, in writing, between the Advisor and the Company . 5. Non-Compete : During the term of engagement with the Company and for a period of 12 months thereafter , Advisor shall not be involved,  as an employee, owner , contractor or otherwise, in any business, which competes with the Company’ s Business, and shall not solicit and/or  hire any employee and/or service provider of the Company , without the prior written consent of the Company . 6.\n",
      "retrival ended\n",
      " ************** Fully Prepared Worker Context *************************\n",
      "Q6: Is there a non-compete obligation to the Advisor?\n",
      " Answer the question(message) from this important information to achieve the tasks: IP: Any Work Product, upon creation, shall be fully and exclusively owned by the Company . The Advisor , immediately upon Company’ s  request, shall sign any document and/or perform any action needed to formalize such ownership. The Advisor shall not obtain any rights in  the Work Product, including moral rights and/or rights for royalties or other consideration under any applicable law (including Section 134  of the Israeli Patent Law – 1967 if applicable), and shall not be entitled to any compensation with respect to the Services, which was not  specifically agreed, in writing, between the Advisor and the Company . 5. Non-Compete : During the term of engagement with the Company and for a period of 12 months thereafter , Advisor shall not be involved,  as an employee, owner , contractor or otherwise, in any business, which competes with the Company’ s Business, and shall not solicit and/or  hire any employee and/or service provider of the Company , without the prior written consent of the Company . 6.\n",
      " ************** Fully Prepared Worker Context *************************\n",
      "retrival started\n",
      "\n",
      " Answer the question(message) from this important information to achieve the tasks: Termination : Either party , at any given time, may terminate this Agreement, for any reason  whatsoever , with or without cause, upon fourteen (14) days’ prior written notice. Notwithstanding the  above, the Company may terminate this Agreement immediately and without prior notice if Advisor  refuses or is unable to perform the Services, or is in breach of any provision of this Agreement. 6. Compensation: 6.1 As full and sole consideration for the Services, and subject to the performance of the Services,  the Company shall pay the Advisor , against an invoice provided to the Company by Advisor ,  hourly fees at a rate of USD 9 (nine) per Billable Hour as defined below , limited to a maximum  of USD 1,500 per month (the \" Fees \"). In addition, the Company shall pay the advisor USD 100  per month to finance a workspace for the Advisor , as long as the Advisor actually hires a  professional workspace (the “ Workspace Expense ”). Advisor will not be entitled to any  additional fees or expense reimbursement whatsoever , except as expressly provided for in this  Agreement. Billable Hour: Net time devoted to the provisioning of the Services, without calculating meals,  travels or any other overhead time borne by the Advisor . 6.2 The Fees and the Workspace Expense for each month shall be payable by no later than ten (10)  days from the beginning of the following month, against receipt by the Company of a duly issued  tax invoice.\n",
      "retrival ended\n",
      " ************** Fully Prepared Worker Context *************************\n",
      "Q7: Can the Advisor charge for meal time?\n",
      " Answer the question(message) from this important information to achieve the tasks: Termination : Either party , at any given time, may terminate this Agreement, for any reason  whatsoever , with or without cause, upon fourteen (14) days’ prior written notice. Notwithstanding the  above, the Company may terminate this Agreement immediately and without prior notice if Advisor  refuses or is unable to perform the Services, or is in breach of any provision of this Agreement. 6. Compensation: 6.1 As full and sole consideration for the Services, and subject to the performance of the Services,  the Company shall pay the Advisor , against an invoice provided to the Company by Advisor ,  hourly fees at a rate of USD 9 (nine) per Billable Hour as defined below , limited to a maximum  of USD 1,500 per month (the \" Fees \"). In addition, the Company shall pay the advisor USD 100  per month to finance a workspace for the Advisor , as long as the Advisor actually hires a  professional workspace (the “ Workspace Expense ”). Advisor will not be entitled to any  additional fees or expense reimbursement whatsoever , except as expressly provided for in this  Agreement. Billable Hour: Net time devoted to the provisioning of the Services, without calculating meals,  travels or any other overhead time borne by the Advisor . 6.2 The Fees and the Workspace Expense for each month shall be payable by no later than ten (10)  days from the beginning of the following month, against receipt by the Company of a duly issued  tax invoice.\n",
      " ************** Fully Prepared Worker Context *************************\n",
      "retrival started\n",
      "\n",
      " Answer the question(message) from this important information to achieve the tasks: Jurisdiction: This Undertaking shall be governed by and construed in accordance with the laws of the State of Israel, without giving effect  to its laws pertaining to conflict of laws.  The Advisor agrees that any and all disputes in connection with this Undertaking shall be  submitted to the exclusive jurisdiction of the competent courts in the city of Tel Aviv-Y afo, Israel. 9. Pre-Undertaking: In case the Advisor has been providing Services to the Company before the Effective Date (“Pre-Undertaking Period”),  this Undertaking shall also apply to the Pre-Undertaking Period, including, if relevant, before Company’ s incorporation. The Company may  assign this undertaking to third parties. IN WITNESS WHEREOF , the undersigned has executed this Undertaking as of the Effective Date. Advisor By: _____________________________________ Name: Jack Robinson.\n",
      "retrival ended\n",
      " ************** Fully Prepared Worker Context *************************\n",
      "Q8: In which street does the Advisor live?\n",
      " Answer the question(message) from this important information to achieve the tasks: Jurisdiction: This Undertaking shall be governed by and construed in accordance with the laws of the State of Israel, without giving effect  to its laws pertaining to conflict of laws.  The Advisor agrees that any and all disputes in connection with this Undertaking shall be  submitted to the exclusive jurisdiction of the competent courts in the city of Tel Aviv-Y afo, Israel. 9. Pre-Undertaking: In case the Advisor has been providing Services to the Company before the Effective Date (“Pre-Undertaking Period”),  this Undertaking shall also apply to the Pre-Undertaking Period, including, if relevant, before Company’ s incorporation. The Company may  assign this undertaking to third parties. IN WITNESS WHEREOF , the undersigned has executed this Undertaking as of the Effective Date. Advisor By: _____________________________________ Name: Jack Robinson.\n",
      " ************** Fully Prepared Worker Context *************************\n",
      "retrival started\n",
      "\n",
      " Answer the question(message) from this important information to achieve the tasks: Without derogating from the above, if it is adjudicated or otherwise determined by any  governmental authority that the Advisor and/or anyone on Advisor's behalf, is, regardless of the terms  of this Agreement, an employee of the Company , then payments to Advisor hereunder shall be  reduced effective retroactively as of the beginning of the Term so that 60% of such payments shall  - 3 - constitute salary payments, and 40% of such payments shall constitute payment by the Company for  all other Advisor statutory rights and benefits as employee of the Company throughout the Term.  Advisor further consents that the Company may offset any amounts due to him under this Section  from any amounts payable to Advisor under this Agreement. Advisor shall indemnify the Company  for any loss or expenses incurred by the Company if it were determined that an alleged  employer/employee relationship existed between the Advisor and the Company . 9. Entir e Agreement; No Waiver or Assignment : This Agreement together with the Exhibits, which  are attached hereto and incorporated herein, set forth the entire Agreement between the parties and  shall supersede all previous communications and agreements between the parties, either oral or  written. This Agreement may be modified only by a written amendment executed by both parties.  This Agreement may not be assigned, sold, delegated or transferred in any manner by Advisor for any  reason whatsoever . The Company may assign the Agreement to a successor of all or substantially all  of its assets or business, provided the assignee has assumed the Company’ s obligations under this  Agreement. 10. Governing Law and Jurisdiction : This Agreement shall be governed by the laws of the State of  Israel, without giving effect to the rules respecting conflicts of laws.\n",
      "retrival ended\n",
      " ************** Fully Prepared Worker Context *************************\n",
      "Q9: Is the Advisor entitled to social benefits?\n",
      " Answer the question(message) from this important information to achieve the tasks: Without derogating from the above, if it is adjudicated or otherwise determined by any  governmental authority that the Advisor and/or anyone on Advisor's behalf, is, regardless of the terms  of this Agreement, an employee of the Company , then payments to Advisor hereunder shall be  reduced effective retroactively as of the beginning of the Term so that 60% of such payments shall  - 3 - constitute salary payments, and 40% of such payments shall constitute payment by the Company for  all other Advisor statutory rights and benefits as employee of the Company throughout the Term.  Advisor further consents that the Company may offset any amounts due to him under this Section  from any amounts payable to Advisor under this Agreement. Advisor shall indemnify the Company  for any loss or expenses incurred by the Company if it were determined that an alleged  employer/employee relationship existed between the Advisor and the Company . 9. Entir e Agreement; No Waiver or Assignment : This Agreement together with the Exhibits, which  are attached hereto and incorporated herein, set forth the entire Agreement between the parties and  shall supersede all previous communications and agreements between the parties, either oral or  written. This Agreement may be modified only by a written amendment executed by both parties.  This Agreement may not be assigned, sold, delegated or transferred in any manner by Advisor for any  reason whatsoever . The Company may assign the Agreement to a successor of all or substantially all  of its assets or business, provided the assignee has assumed the Company’ s obligations under this  Agreement. 10. Governing Law and Jurisdiction : This Agreement shall be governed by the laws of the State of  Israel, without giving effect to the rules respecting conflicts of laws.\n",
      " ************** Fully Prepared Worker Context *************************\n",
      "retrival started\n",
      "\n",
      " Answer the question(message) from this important information to achieve the tasks: Without derogating from the above, if it is adjudicated or otherwise determined by any  governmental authority that the Advisor and/or anyone on Advisor's behalf, is, regardless of the terms  of this Agreement, an employee of the Company , then payments to Advisor hereunder shall be  reduced effective retroactively as of the beginning of the Term so that 60% of such payments shall  - 3 - constitute salary payments, and 40% of such payments shall constitute payment by the Company for  all other Advisor statutory rights and benefits as employee of the Company throughout the Term.  Advisor further consents that the Company may offset any amounts due to him under this Section  from any amounts payable to Advisor under this Agreement. Advisor shall indemnify the Company  for any loss or expenses incurred by the Company if it were determined that an alleged  employer/employee relationship existed between the Advisor and the Company . 9. Entir e Agreement; No Waiver or Assignment : This Agreement together with the Exhibits, which  are attached hereto and incorporated herein, set forth the entire Agreement between the parties and  shall supersede all previous communications and agreements between the parties, either oral or  written. This Agreement may be modified only by a written amendment executed by both parties.  This Agreement may not be assigned, sold, delegated or transferred in any manner by Advisor for any  reason whatsoever . The Company may assign the Agreement to a successor of all or substantially all  of its assets or business, provided the assignee has assumed the Company’ s obligations under this  Agreement. 10. Governing Law and Jurisdiction : This Agreement shall be governed by the laws of the State of  Israel, without giving effect to the rules respecting conflicts of laws.\n",
      "retrival ended\n",
      " ************** Fully Prepared Worker Context *************************\n",
      "Q10: What happens if the Advisor claims compensation based on employment relationship with the Company?\n",
      " Answer the question(message) from this important information to achieve the tasks: Without derogating from the above, if it is adjudicated or otherwise determined by any  governmental authority that the Advisor and/or anyone on Advisor's behalf, is, regardless of the terms  of this Agreement, an employee of the Company , then payments to Advisor hereunder shall be  reduced effective retroactively as of the beginning of the Term so that 60% of such payments shall  - 3 - constitute salary payments, and 40% of such payments shall constitute payment by the Company for  all other Advisor statutory rights and benefits as employee of the Company throughout the Term.  Advisor further consents that the Company may offset any amounts due to him under this Section  from any amounts payable to Advisor under this Agreement. Advisor shall indemnify the Company  for any loss or expenses incurred by the Company if it were determined that an alleged  employer/employee relationship existed between the Advisor and the Company . 9. Entir e Agreement; No Waiver or Assignment : This Agreement together with the Exhibits, which  are attached hereto and incorporated herein, set forth the entire Agreement between the parties and  shall supersede all previous communications and agreements between the parties, either oral or  written. This Agreement may be modified only by a written amendment executed by both parties.  This Agreement may not be assigned, sold, delegated or transferred in any manner by Advisor for any  reason whatsoever . The Company may assign the Agreement to a successor of all or substantially all  of its assets or business, provided the assignee has assumed the Company’ s obligations under this  Agreement. 10. Governing Law and Jurisdiction : This Agreement shall be governed by the laws of the State of  Israel, without giving effect to the rules respecting conflicts of laws.\n",
      " ************** Fully Prepared Worker Context *************************\n"
     ]
    },
    {
     "name": "stderr",
     "output_type": "stream",
     "text": [
      "Exception in thread Thread-81:\n",
      "Traceback (most recent call last):\n",
      "  File \"/home/codespace/.python/current/lib/python3.10/threading.py\", line 1016, in _bootstrap_inner\n",
      "    self.run()\n",
      "  File \"/workspaces/Contract-Advisor-RAG/venv/lib/python3.10/site-packages/ragas/executor.py\", line 87, in run\n",
      "    results = self.loop.run_until_complete(self._aresults())\n",
      "  File \"/home/codespace/.python/current/lib/python3.10/asyncio/base_events.py\", line 625, in run_until_complete\n",
      "    self._check_running()\n",
      "  File \"/home/codespace/.python/current/lib/python3.10/asyncio/base_events.py\", line 584, in _check_running\n",
      "    raise RuntimeError('This event loop is already running')\n",
      "RuntimeError: This event loop is already running\n"
     ]
    },
    {
     "name": "stdout",
     "output_type": "stream",
     "text": [
      "Dataset({\n",
      "    features: ['question', 'answer', 'contexts', 'ground_truth'],\n",
      "    num_rows: 10\n",
      "})\n"
     ]
    },
    {
     "name": "stderr",
     "output_type": "stream",
     "text": [
      "/home/codespace/.python/current/lib/python3.10/threading.py:1018: RuntimeWarning: coroutine 'Runner._aresults' was never awaited\n",
      "  self._invoke_excepthook(self)\n",
      "RuntimeWarning: Enable tracemalloc to get the object allocation traceback\n"
     ]
    },
    {
     "ename": "ExceptionInRunner",
     "evalue": "The runner thread which was running the jobs raised an exeception. Read the traceback above to debug it. You can also pass `raise_exceptions=False` incase you want to show only a warning message instead.",
     "output_type": "error",
     "traceback": [
      "\u001b[0;31m---------------------------------------------------------------------------\u001b[0m",
      "\u001b[0;31mExceptionInRunner\u001b[0m                         Traceback (most recent call last)",
      "Cell \u001b[0;32mIn[87], line 2\u001b[0m\n\u001b[1;32m      1\u001b[0m \u001b[38;5;28;01mimport\u001b[39;00m \u001b[38;5;21;01masyncio\u001b[39;00m\n\u001b[0;32m----> 2\u001b[0m result \u001b[38;5;241m=\u001b[39m asyncio\u001b[38;5;241m.\u001b[39mrun(\u001b[43mevaluate_metrics\u001b[49m\u001b[43m(\u001b[49m\u001b[43m)\u001b[49m)\n\u001b[1;32m      4\u001b[0m \u001b[38;5;28mprint\u001b[39m(result)\n",
      "Cell \u001b[0;32mIn[85], line 36\u001b[0m, in \u001b[0;36mevaluate_metrics\u001b[0;34m()\u001b[0m\n\u001b[1;32m     32\u001b[0m dataset \u001b[38;5;241m=\u001b[39m Dataset\u001b[38;5;241m.\u001b[39mfrom_dict(data)\n\u001b[1;32m     34\u001b[0m \u001b[38;5;28mprint\u001b[39m(dataset)\n\u001b[0;32m---> 36\u001b[0m result \u001b[38;5;241m=\u001b[39m \u001b[43mevaluate\u001b[49m\u001b[43m(\u001b[49m\n\u001b[1;32m     37\u001b[0m \u001b[43m    \u001b[49m\u001b[43mdataset\u001b[49m\u001b[38;5;241;43m=\u001b[39;49m\u001b[43mdataset\u001b[49m\u001b[43m,\u001b[49m\n\u001b[1;32m     38\u001b[0m \u001b[43m    \u001b[49m\u001b[43mmetrics\u001b[49m\u001b[38;5;241;43m=\u001b[39;49m\u001b[43m[\u001b[49m\n\u001b[1;32m     39\u001b[0m \u001b[43m        \u001b[49m\u001b[43mcontext_precision\u001b[49m\u001b[43m,\u001b[49m\n\u001b[1;32m     40\u001b[0m \u001b[43m        \u001b[49m\u001b[43mcontext_recall\u001b[49m\u001b[43m,\u001b[49m\n\u001b[1;32m     41\u001b[0m \u001b[43m        \u001b[49m\u001b[43mfaithfulness\u001b[49m\u001b[43m,\u001b[49m\n\u001b[1;32m     42\u001b[0m \u001b[43m        \u001b[49m\u001b[43manswer_relevancy\u001b[49m\u001b[43m,\u001b[49m\n\u001b[1;32m     43\u001b[0m \u001b[43m        \u001b[49m\u001b[43manswer_similarity\u001b[49m\u001b[43m,\u001b[49m\n\u001b[1;32m     44\u001b[0m \u001b[43m    \u001b[49m\u001b[43m]\u001b[49m\u001b[43m,\u001b[49m\n\u001b[1;32m     45\u001b[0m \u001b[43m\u001b[49m\u001b[43m)\u001b[49m\n\u001b[1;32m     47\u001b[0m \u001b[38;5;28;01mreturn\u001b[39;00m result\n",
      "File \u001b[0;32m/workspaces/Contract-Advisor-RAG/venv/lib/python3.10/site-packages/ragas/evaluation.py:255\u001b[0m, in \u001b[0;36mevaluate\u001b[0;34m(dataset, metrics, llm, embeddings, callbacks, in_ci, is_async, run_config, raise_exceptions, column_map)\u001b[0m\n\u001b[1;32m    252\u001b[0m     \u001b[38;5;28;01mif\u001b[39;00m \u001b[38;5;129;01mnot\u001b[39;00m evaluation_group_cm\u001b[38;5;241m.\u001b[39mended:\n\u001b[1;32m    253\u001b[0m         evaluation_rm\u001b[38;5;241m.\u001b[39mon_chain_error(e)\n\u001b[0;32m--> 255\u001b[0m     \u001b[38;5;28;01mraise\u001b[39;00m e\n\u001b[1;32m    256\u001b[0m \u001b[38;5;28;01melse\u001b[39;00m:\n\u001b[1;32m    257\u001b[0m     result \u001b[38;5;241m=\u001b[39m Result(\n\u001b[1;32m    258\u001b[0m         scores\u001b[38;5;241m=\u001b[39mDataset\u001b[38;5;241m.\u001b[39mfrom_list(scores),\n\u001b[1;32m    259\u001b[0m         dataset\u001b[38;5;241m=\u001b[39mdataset,\n\u001b[1;32m    260\u001b[0m         binary_columns\u001b[38;5;241m=\u001b[39mbinary_metrics,\n\u001b[1;32m    261\u001b[0m     )\n",
      "File \u001b[0;32m/workspaces/Contract-Advisor-RAG/venv/lib/python3.10/site-packages/ragas/evaluation.py:237\u001b[0m, in \u001b[0;36mevaluate\u001b[0;34m(dataset, metrics, llm, embeddings, callbacks, in_ci, is_async, run_config, raise_exceptions, column_map)\u001b[0m\n\u001b[1;32m    235\u001b[0m results \u001b[38;5;241m=\u001b[39m executor\u001b[38;5;241m.\u001b[39mresults()\n\u001b[1;32m    236\u001b[0m \u001b[38;5;28;01mif\u001b[39;00m results \u001b[38;5;241m==\u001b[39m []:\n\u001b[0;32m--> 237\u001b[0m     \u001b[38;5;28;01mraise\u001b[39;00m ExceptionInRunner()\n\u001b[1;32m    239\u001b[0m \u001b[38;5;66;03m# convert results to dataset_like\u001b[39;00m\n\u001b[1;32m    240\u001b[0m \u001b[38;5;28;01mfor\u001b[39;00m i, _ \u001b[38;5;129;01min\u001b[39;00m \u001b[38;5;28menumerate\u001b[39m(dataset):\n",
      "\u001b[0;31mExceptionInRunner\u001b[0m: The runner thread which was running the jobs raised an exeception. Read the traceback above to debug it. You can also pass `raise_exceptions=False` incase you want to show only a warning message instead."
     ]
    },
    {
     "name": "stderr",
     "output_type": "stream",
     "text": [
      "/workspaces/Contract-Advisor-RAG/venv/lib/python3.10/site-packages/ipykernel/iostream.py:123: RuntimeWarning: coroutine 'as_completed.<locals>.sema_coro' was never awaited\n",
      "  await self._event_pipe_gc()\n",
      "RuntimeWarning: Enable tracemalloc to get the object allocation traceback\n"
     ]
    }
   ],
   "source": [
    "import asyncio\n",
    "result = asyncio.run(evaluate_metrics())\n",
    "\n",
    "print(result)"
   ]
  },
  {
   "cell_type": "code",
   "execution_count": 84,
   "metadata": {},
   "outputs": [
    {
     "ename": "RuntimeError",
     "evalue": "asyncio.run() cannot be called from a running event loop",
     "output_type": "error",
     "traceback": [
      "\u001b[0;31m---------------------------------------------------------------------------\u001b[0m",
      "\u001b[0;31mRuntimeError\u001b[0m                              Traceback (most recent call last)",
      "Cell \u001b[0;32mIn[84], line 79\u001b[0m\n\u001b[1;32m     60\u001b[0m     \u001b[38;5;28;01mreturn\u001b[39;00m asyncio\u001b[38;5;241m.\u001b[39mrun(evaluate_metrics_async())\n\u001b[1;32m     62\u001b[0m \u001b[38;5;66;03m# Assuming questions and ground_truth are defined\u001b[39;00m\n\u001b[1;32m     63\u001b[0m \u001b[38;5;66;03m# questions = [\u001b[39;00m\n\u001b[1;32m     64\u001b[0m \u001b[38;5;66;03m#     \"Who are the parties to the Agreement and what are their defined names?\",\u001b[39;00m\n\u001b[0;32m   (...)\u001b[0m\n\u001b[1;32m     77\u001b[0m \n\u001b[1;32m     78\u001b[0m \u001b[38;5;66;03m# Run the evaluation\u001b[39;00m\n\u001b[0;32m---> 79\u001b[0m result \u001b[38;5;241m=\u001b[39m \u001b[43mevaluate_metrics\u001b[49m\u001b[43m(\u001b[49m\u001b[43m)\u001b[49m\n\u001b[1;32m     81\u001b[0m \u001b[38;5;28mprint\u001b[39m(result)\n",
      "Cell \u001b[0;32mIn[84], line 60\u001b[0m, in \u001b[0;36mevaluate_metrics\u001b[0;34m()\u001b[0m\n\u001b[1;32m     53\u001b[0m \u001b[38;5;28;01mdef\u001b[39;00m \u001b[38;5;21mevaluate_metrics\u001b[39m():\n\u001b[1;32m     54\u001b[0m \u001b[38;5;250m    \u001b[39m\u001b[38;5;124;03m\"\"\"\u001b[39;00m\n\u001b[1;32m     55\u001b[0m \u001b[38;5;124;03m    Wrapper function to run the asynchronous evaluation.\u001b[39;00m\n\u001b[1;32m     56\u001b[0m \n\u001b[1;32m     57\u001b[0m \u001b[38;5;124;03m    Returns:\u001b[39;00m\n\u001b[1;32m     58\u001b[0m \u001b[38;5;124;03m    dict: A dictionary with the evaluation metrics.\u001b[39;00m\n\u001b[1;32m     59\u001b[0m \u001b[38;5;124;03m    \"\"\"\u001b[39;00m\n\u001b[0;32m---> 60\u001b[0m     \u001b[38;5;28;01mreturn\u001b[39;00m \u001b[43masyncio\u001b[49m\u001b[38;5;241;43m.\u001b[39;49m\u001b[43mrun\u001b[49m\u001b[43m(\u001b[49m\u001b[43mevaluate_metrics_async\u001b[49m\u001b[43m(\u001b[49m\u001b[43m)\u001b[49m\u001b[43m)\u001b[49m\n",
      "File \u001b[0;32m~/.python/current/lib/python3.10/asyncio/runners.py:33\u001b[0m, in \u001b[0;36mrun\u001b[0;34m(main, debug)\u001b[0m\n\u001b[1;32m      9\u001b[0m \u001b[38;5;250m\u001b[39m\u001b[38;5;124;03m\"\"\"Execute the coroutine and return the result.\u001b[39;00m\n\u001b[1;32m     10\u001b[0m \n\u001b[1;32m     11\u001b[0m \u001b[38;5;124;03mThis function runs the passed coroutine, taking care of\u001b[39;00m\n\u001b[0;32m   (...)\u001b[0m\n\u001b[1;32m     30\u001b[0m \u001b[38;5;124;03m    asyncio.run(main())\u001b[39;00m\n\u001b[1;32m     31\u001b[0m \u001b[38;5;124;03m\"\"\"\u001b[39;00m\n\u001b[1;32m     32\u001b[0m \u001b[38;5;28;01mif\u001b[39;00m events\u001b[38;5;241m.\u001b[39m_get_running_loop() \u001b[38;5;129;01mis\u001b[39;00m \u001b[38;5;129;01mnot\u001b[39;00m \u001b[38;5;28;01mNone\u001b[39;00m:\n\u001b[0;32m---> 33\u001b[0m     \u001b[38;5;28;01mraise\u001b[39;00m \u001b[38;5;167;01mRuntimeError\u001b[39;00m(\n\u001b[1;32m     34\u001b[0m         \u001b[38;5;124m\"\u001b[39m\u001b[38;5;124masyncio.run() cannot be called from a running event loop\u001b[39m\u001b[38;5;124m\"\u001b[39m)\n\u001b[1;32m     36\u001b[0m \u001b[38;5;28;01mif\u001b[39;00m \u001b[38;5;129;01mnot\u001b[39;00m coroutines\u001b[38;5;241m.\u001b[39miscoroutine(main):\n\u001b[1;32m     37\u001b[0m     \u001b[38;5;28;01mraise\u001b[39;00m \u001b[38;5;167;01mValueError\u001b[39;00m(\u001b[38;5;124m\"\u001b[39m\u001b[38;5;124ma coroutine was expected, got \u001b[39m\u001b[38;5;132;01m{!r}\u001b[39;00m\u001b[38;5;124m\"\u001b[39m\u001b[38;5;241m.\u001b[39mformat(main))\n",
      "\u001b[0;31mRuntimeError\u001b[0m: asyncio.run() cannot be called from a running event loop"
     ]
    }
   ],
   "source": [
    "from datasets import Dataset\n",
    "import asyncio\n",
    "from ragas.metrics import (\n",
    "    faithfulness,\n",
    "    answer_relevancy,\n",
    "    context_recall,\n",
    "    context_precision,\n",
    "    answer_similarity,\n",
    ")\n",
    "from ragas import evaluate\n",
    "\n",
    "async def evaluate_metrics_async():\n",
    "    \"\"\"\n",
    "    Evaluates performance metrics for generated responses asynchronously.\n",
    "\n",
    "    Returns:\n",
    "    dict: A dictionary with the evaluation metrics.\n",
    "    \"\"\"\n",
    "    answers = []\n",
    "    contexts = []\n",
    "\n",
    "    for question in questions:\n",
    "        # Retrieve relevant documents (dummy code for retriever_obj)\n",
    "        relevant_docs = retriever_obj.invoke(question)\n",
    "        context = \"\\n\" + \"Answer the question(message) from this important information to achieve the tasks: \" + relevant_docs[0]['page_content']\n",
    "        \n",
    "        result = ask_worker(question)  # Replace with your actual function to generate answers\n",
    "        answers.append(result)\n",
    "        contexts.append([doc['page_content'] for doc in relevant_docs])\n",
    "\n",
    "    data = {\n",
    "        \"question\": questions,\n",
    "        \"answer\": answers,\n",
    "        \"contexts\": contexts,\n",
    "        \"ground_truth\": ground_truth,\n",
    "    }\n",
    "\n",
    "    dataset = Dataset.from_dict(data)\n",
    "\n",
    "    result = await evaluate(\n",
    "        dataset=dataset,\n",
    "        metrics=[\n",
    "            context_precision,\n",
    "            context_recall,\n",
    "            faithfulness,\n",
    "            answer_relevancy,\n",
    "            answer_similarity,\n",
    "        ],\n",
    "    )\n",
    "\n",
    "    return result\n",
    "\n",
    "def evaluate_metrics():\n",
    "    \"\"\"\n",
    "    Wrapper function to run the asynchronous evaluation.\n",
    "\n",
    "    Returns:\n",
    "    dict: A dictionary with the evaluation metrics.\n",
    "    \"\"\"\n",
    "    return asyncio.run(evaluate_metrics_async())\n",
    "\n",
    "# Assuming questions and ground_truth are defined\n",
    "# questions = [\n",
    "#     \"Who are the parties to the Agreement and what are their defined names?\",\n",
    "#     \"What is the termination notice?\",\n",
    "#     # Add more questions as needed\n",
    "# ]\n",
    "\n",
    "# ground_truth = [\n",
    "#     \"The parties are Cloud Investments Ltd. and Jack Robinson.\",\n",
    "#     \"Either party may terminate the Agreement with 14 days' prior written notice.\",\n",
    "#     # Add corresponding ground truth answers\n",
    "# ]\n",
    "\n",
    "# Assuming retriever_obj and ask_worker are defined and initialized\n",
    "# Initialize your retriever_obj and ask_worker here\n",
    "\n",
    "# Run the evaluation\n",
    "result = evaluate_metrics()\n",
    "\n",
    "print(result)\n"
   ]
  },
  {
   "cell_type": "code",
   "execution_count": null,
   "metadata": {},
   "outputs": [],
   "source": []
  },
  {
   "cell_type": "code",
   "execution_count": null,
   "metadata": {},
   "outputs": [],
   "source": []
  },
  {
   "cell_type": "code",
   "execution_count": null,
   "metadata": {},
   "outputs": [],
   "source": []
  },
  {
   "cell_type": "code",
   "execution_count": 46,
   "metadata": {},
   "outputs": [],
   "source": [
    "# !pip install ipywidgets\n",
    "import ipywidgets as widgets\n",
    "from IPython.display import display, clear_output\n",
    "\n",
    "# Initialize the list to hold messages\n",
    "messages = []\n",
    "\n",
    "\n",
    "def handle_input(sender):\n",
    "    global messages\n",
    "    user_input = sender.value\n",
    "    messages.append(f\"User: {user_input}\")\n",
    "    chat_with_agent(user_input)\n",
    "    messages.append(\"\")\n",
    "    display_messages()\n",
    "\n",
    "# Function to display messages\n",
    "def display_messages():\n",
    "\n",
    "    text_input = widgets.Text(\n",
    "        value='',\n",
    "        placeholder='Type your message',\n",
    "        description='Chat:',\n",
    "        disabled=False\n",
    "    )\n",
    "    text_input.on_submit(handle_input)\n",
    "    display(text_input)\n",
    "\n",
    "\n",
    "#display_messages()"
   ]
  },
  {
   "cell_type": "code",
   "execution_count": 47,
   "metadata": {},
   "outputs": [
    {
     "name": "stderr",
     "output_type": "stream",
     "text": [
      "/tmp/ipykernel_6594/4125127347.py:26: DeprecationWarning: on_submit is deprecated. Instead, set the .continuous_update attribute to False and observe the value changing with: mywidget.observe(callback, 'value').\n",
      "  text_input.on_submit(handle_input)\n"
     ]
    },
    {
     "data": {
      "application/vnd.jupyter.widget-view+json": {
       "model_id": "653681a8eee949309dba2bc52a11f93a",
       "version_major": 2,
       "version_minor": 0
      },
      "text/plain": [
       "Text(value='', description='Chat:', placeholder='Type your message')"
      ]
     },
     "metadata": {},
     "output_type": "display_data"
    },
    {
     "name": "stdout",
     "output_type": "stream",
     "text": [
      "\u001b[33muser_proxy\u001b[0m (to assistant):\n",
      "\n",
      "Who are the parties to the Agreement and what are their defined names?\n",
      "\n",
      "--------------------------------------------------------------------------------\n",
      "\u001b[33massistant\u001b[0m (to user_proxy):\n",
      "\n",
      "\u001b[32m***** Suggested function call: ask_worker *****\u001b[0m\n",
      "Arguments: \n",
      "{\"message\":\"Identify the parties to the Agreement and provide their defined names.\"}\n",
      "\u001b[32m***********************************************\u001b[0m\n",
      "\n",
      "--------------------------------------------------------------------------------\n",
      "\u001b[35m\n",
      ">>>>>>>> EXECUTING FUNCTION ask_worker...\u001b[0m\n",
      "retrival started\n",
      "\n",
      " Answer the question(message) from this important information to achieve the tasks: IN WITNESS WHEREOF , the undersigned has executed this Undertaking as of the Effective Date. Advisor By: _____________________________________ Name: Jack Robinson.\n",
      "retrival ended\n",
      " ************** Fully Prepared Worker Context *************************\n",
      "Identify the parties to the Agreement and provide their defined names.\n",
      " Answer the question(message) from this important information to achieve the tasks: IN WITNESS WHEREOF , the undersigned has executed this Undertaking as of the Effective Date. Advisor By: _____________________________________ Name: Jack Robinson.\n",
      " ************** Fully Prepared Worker Context *************************\n",
      "\u001b[33muser_proxy\u001b[0m (to assistant):\n",
      "\n",
      "\u001b[32m***** Response from calling function (ask_worker) *****\u001b[0m\n",
      "The parties to the Agreement are:\n",
      "\n",
      "1. Advisor (Jack Robinson)\n",
      "\u001b[32m*******************************************************\u001b[0m\n",
      "\n",
      "--------------------------------------------------------------------------------\n",
      "\u001b[33massistant\u001b[0m (to user_proxy):\n",
      "\n",
      "The parties to the Agreement are:\n",
      "- Advisor (Jack Robinson)\n",
      "\n",
      "--------------------------------------------------------------------------------\n",
      "\u001b[33muser_proxy\u001b[0m (to assistant):\n",
      "\n",
      "\n",
      "\n",
      "--------------------------------------------------------------------------------\n",
      "\u001b[33massistant\u001b[0m (to user_proxy):\n",
      "\n",
      "Please let me know if you have any other questions or need further assistance.\n",
      "\n",
      "--------------------------------------------------------------------------------\n",
      "\u001b[33muser_proxy\u001b[0m (to assistant):\n",
      "\n",
      "\n",
      "\n",
      "--------------------------------------------------------------------------------\n",
      "\u001b[33massistant\u001b[0m (to user_proxy):\n",
      "\n",
      "If you have any more questions in the future or need assistance, feel free to ask. Have a great day!\n",
      "\n",
      "--------------------------------------------------------------------------------\n"
     ]
    },
    {
     "name": "stderr",
     "output_type": "stream",
     "text": [
      "/tmp/ipykernel_6594/4125127347.py:26: DeprecationWarning: on_submit is deprecated. Instead, set the .continuous_update attribute to False and observe the value changing with: mywidget.observe(callback, 'value').\n",
      "  text_input.on_submit(handle_input)\n"
     ]
    },
    {
     "data": {
      "application/vnd.jupyter.widget-view+json": {
       "model_id": "a54e3cbd781b4544b66c5ba32c9d0f72",
       "version_major": 2,
       "version_minor": 0
      },
      "text/plain": [
       "Text(value='', description='Chat:', placeholder='Type your message')"
      ]
     },
     "metadata": {},
     "output_type": "display_data"
    }
   ],
   "source": [
    "display_messages()"
   ]
  },
  {
   "cell_type": "code",
   "execution_count": null,
   "metadata": {},
   "outputs": [],
   "source": []
  }
 ],
 "metadata": {
  "kernelspec": {
   "display_name": "venv",
   "language": "python",
   "name": "python3"
  },
  "language_info": {
   "codemirror_mode": {
    "name": "ipython",
    "version": 3
   },
   "file_extension": ".py",
   "mimetype": "text/x-python",
   "name": "python",
   "nbconvert_exporter": "python",
   "pygments_lexer": "ipython3",
   "version": "3.10.13"
  }
 },
 "nbformat": 4,
 "nbformat_minor": 2
}
